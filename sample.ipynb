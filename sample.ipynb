{
 "cells": [
  {
   "cell_type": "code",
   "execution_count": 67,
   "id": "1549a5bc-2216-41a9-b8ad-4d8592fe5ffe",
   "metadata": {},
   "outputs": [],
   "source": [
    "import os, shutil\n",
    "import pandas as pd\n",
    "from keras import saving\n",
    "import matplotlib.pyplot as plt\n",
    "from keras import models, layers\n",
    "from keras import optimizers\n",
    "# convert images to tensors\n",
    "from keras.preprocessing.image import ImageDataGenerator\n",
    "import numpy as np\n",
    "from keras.applications import VGG16"
   ]
  },
  {
   "cell_type": "code",
   "execution_count": 2,
   "id": "7130fda1-c45a-410f-a563-879f092c19b7",
   "metadata": {},
   "outputs": [],
   "source": [
    "# Unzipped dataset path\n",
    "origial_dataset_dir = 'D:\\\\Personal\\\\DataSets\\\\Dogs_VS_Cats\\\\train'"
   ]
  },
  {
   "cell_type": "code",
   "execution_count": 3,
   "id": "5a23b350-75d8-408a-9f45-d2e42472521c",
   "metadata": {},
   "outputs": [],
   "source": [
    "# Location to make small directory\n",
    "base_dir = 'C:\\\\Users\\\\nimap\\\\MyJupyter\\\\Train\\\\Deep\\\\Dogs-VS-Cats\\\\small'"
   ]
  },
  {
   "cell_type": "code",
   "execution_count": 4,
   "id": "3c856c8b-6bad-4e0f-8486-f848e7b34a83",
   "metadata": {},
   "outputs": [],
   "source": [
    "# Create small directory\n",
    "os.mkdir(base_dir)"
   ]
  },
  {
   "cell_type": "code",
   "execution_count": 5,
   "id": "cccc44fb-a70d-43ec-9e9c-261492ee2594",
   "metadata": {},
   "outputs": [],
   "source": [
    "# Create train, validation and test directory\n",
    "train_dir = os.path.join(base_dir, 'train')\n",
    "os.mkdir(train_dir)\n",
    "\n",
    "validation_dir = os.path.join(base_dir, 'validation')\n",
    "os.mkdir(validation_dir)\n",
    "\n",
    "test_dir = os.path.join(base_dir, 'test')\n",
    "os.mkdir(test_dir)"
   ]
  },
  {
   "cell_type": "code",
   "execution_count": 6,
   "id": "a351e457-7e20-4c33-8611-2de976dcfce0",
   "metadata": {},
   "outputs": [],
   "source": [
    "# Create cats & dogs folder in train directory\n",
    "train_cats_dir = os.path.join(train_dir, 'cats')\n",
    "os.mkdir(train_cats_dir)\n",
    "\n",
    "train_dogs_dir = os.path.join(train_dir, 'dogs')\n",
    "os.mkdir(train_dogs_dir)"
   ]
  },
  {
   "cell_type": "code",
   "execution_count": 7,
   "id": "00b2235a-2881-409f-aad2-b2407a4113c6",
   "metadata": {},
   "outputs": [],
   "source": [
    "# create validation folders for cat and dog\n",
    "validation_cats_directory = os.path.join(validation_dir, 'cats')\n",
    "os.mkdir(validation_cats_directory)\n",
    "\n",
    "validation_dogs_directory = os.path.join(validation_dir, 'dogs')\n",
    "os.mkdir(validation_dogs_directory)"
   ]
  },
  {
   "cell_type": "code",
   "execution_count": 8,
   "id": "b09362a2-1d26-41ce-8ac9-c2ef9352373c",
   "metadata": {},
   "outputs": [],
   "source": [
    "# Create test folder for cats and dogs\n",
    "test_cats_dir = os.path.join(test_dir, 'cats')\n",
    "os.mkdir(test_cats_dir)\n",
    "\n",
    "test_dogs_dir = os.path.join(test_dir, 'dogs')\n",
    "os.mkdir(test_dogs_dir)"
   ]
  },
  {
   "cell_type": "code",
   "execution_count": 9,
   "id": "df3d6fce-7d9b-4bcd-a08c-3f24d5920333",
   "metadata": {},
   "outputs": [],
   "source": [
    "# Copy 1000 cats image to train_cats_dir\n",
    "fnames = ['cat.{}.jpg'.format(i) for i in range(1000)]\n",
    "\n",
    "for fname in fnames :\n",
    "    src = os.path.join(origial_dataset_dir, fname)\n",
    "    dst = os.path.join(train_cats_dir, fname)\n",
    "    shutil.copyfile(src, dst)"
   ]
  },
  {
   "cell_type": "code",
   "execution_count": 10,
   "id": "185befe2-54d5-4edb-b1fa-6013d609d892",
   "metadata": {},
   "outputs": [],
   "source": [
    "# Copy 500 cats image to validation_cats_dir\n",
    "fnames = ['cat.{}.jpg'.format(i) for i in range(1000, 1500)]\n",
    "\n",
    "for fname in fnames :\n",
    "    src = os.path.join(origial_dataset_dir, fname)\n",
    "    dts = os.path.join(validation_cats_directory, fname)\n",
    "    shutil.copyfile(src, dts)"
   ]
  },
  {
   "cell_type": "code",
   "execution_count": 11,
   "id": "a95b90f0-3623-4ec0-9d7c-d1cc9431b0f4",
   "metadata": {},
   "outputs": [],
   "source": [
    "# copy 500 cats image to test_cats_dir\n",
    "fnames = ['cat.{}.jpg'.format(i) for i in range(1500, 2000)]\n",
    "\n",
    "for fname in fnames :\n",
    "    src = os.path.join(origial_dataset_dir, fname)\n",
    "    dts = os.path.join(test_cats_dir, fname)\n",
    "    shutil.copyfile(src, dts)"
   ]
  },
  {
   "cell_type": "code",
   "execution_count": 12,
   "id": "185aa2c0-9102-4aba-bd54-bb761fd39af1",
   "metadata": {},
   "outputs": [],
   "source": [
    "# Copy 1000 dogs image to train_cats_dir\n",
    "fnames = ['dog.{}.jpg'.format(i) for i in range(1000)]\n",
    "\n",
    "for fname in fnames :\n",
    "    src = os.path.join(origial_dataset_dir, fname)\n",
    "    dst = os.path.join(train_dogs_dir, fname)\n",
    "    shutil.copyfile(src, dst)"
   ]
  },
  {
   "cell_type": "code",
   "execution_count": 13,
   "id": "8e41134e-0232-4763-a3c9-44834261aa7b",
   "metadata": {},
   "outputs": [],
   "source": [
    "# Copy 500 dogs image to validation_cats_dir\n",
    "fnames = ['dog.{}.jpg'.format(i) for i in range(1000, 1500)]\n",
    "\n",
    "for fname in fnames :\n",
    "    src = os.path.join(origial_dataset_dir, fname)\n",
    "    dts = os.path.join(validation_dogs_directory, fname)\n",
    "    shutil.copyfile(src, dts)"
   ]
  },
  {
   "cell_type": "code",
   "execution_count": 14,
   "id": "54ed8a43-c964-4264-9e77-dd8456caa750",
   "metadata": {},
   "outputs": [],
   "source": [
    "# copy 500 dogs image to test_cats_dir\n",
    "fnames = ['dog.{}.jpg'.format(i) for i in range(1500, 2000)]\n",
    "\n",
    "for fname in fnames :\n",
    "    src = os.path.join(origial_dataset_dir, fname)\n",
    "    dts = os.path.join(test_dogs_dir, fname)\n",
    "    shutil.copyfile(src, dts)"
   ]
  },
  {
   "cell_type": "code",
   "execution_count": 15,
   "id": "3cc85c86-59ed-4953-a1a4-d93b43206824",
   "metadata": {},
   "outputs": [
    {
     "name": "stdout",
     "output_type": "stream",
     "text": [
      "Total training cat images :  1000\n",
      "Total validation cat images :  500\n",
      "Total test cat images :  500\n",
      "_____________________________________________\n",
      "Total training cat images :  1000\n",
      "Total validation cat images :  500\n",
      "Total test cat images :  500\n"
     ]
    }
   ],
   "source": [
    "# Counts number of images in each folder\n",
    "print('Total training cat images : ', len(os.listdir(train_cats_dir)))\n",
    "print('Total validation cat images : ', len(os.listdir(validation_cats_directory)))\n",
    "print('Total test cat images : ', len(os.listdir(test_cats_dir)))\n",
    "print('_' * 45)\n",
    "print('Total training cat images : ', len(os.listdir(train_dogs_dir)))\n",
    "print('Total validation cat images : ', len(os.listdir(validation_dogs_directory)))\n",
    "print('Total test cat images : ', len(os.listdir(test_dogs_dir)))"
   ]
  },
  {
   "cell_type": "markdown",
   "id": "557996d2-ea5a-43c4-a877-5d579e661ab2",
   "metadata": {},
   "source": [
    "## Modeling"
   ]
  },
  {
   "cell_type": "code",
   "execution_count": 16,
   "id": "4b5ce16c-5052-485c-8356-a4be0947207f",
   "metadata": {},
   "outputs": [],
   "source": [
    "model = models.Sequential()\n",
    "model.add(layers.Conv2D(32, (3, 3), activation='relu', input_shape=(150, 150, 3)))\n",
    "model.add(layers.MaxPooling2D(2, 2))\n",
    "model.add(layers.Conv2D(64, (3, 3), activation='relu'))\n",
    "model.add(layers.MaxPooling2D(2, 2))\n",
    "model.add(layers.Conv2D(128, (3, 3), activation='relu'))\n",
    "model.add(layers.MaxPooling2D(2, 2))\n",
    "model.add(layers.Conv2D(128, (3, 3), activation='relu'))\n",
    "model.add(layers.MaxPooling2D(2, 2))\n",
    "model.add(layers.Flatten())\n",
    "model.add(layers.Dense(512, activation='relu'))\n",
    "model.add(layers.Dense(1, activation='sigmoid'))"
   ]
  },
  {
   "cell_type": "code",
   "execution_count": 17,
   "id": "770cecf8-1776-4148-a87d-3f576fb03d6c",
   "metadata": {},
   "outputs": [
    {
     "name": "stdout",
     "output_type": "stream",
     "text": [
      "Model: \"sequential\"\n",
      "_________________________________________________________________\n",
      " Layer (type)                Output Shape              Param #   \n",
      "=================================================================\n",
      " conv2d (Conv2D)             (None, 148, 148, 32)      896       \n",
      "                                                                 \n",
      " max_pooling2d (MaxPooling2  (None, 74, 74, 32)        0         \n",
      " D)                                                              \n",
      "                                                                 \n",
      " conv2d_1 (Conv2D)           (None, 72, 72, 64)        18496     \n",
      "                                                                 \n",
      " max_pooling2d_1 (MaxPoolin  (None, 36, 36, 64)        0         \n",
      " g2D)                                                            \n",
      "                                                                 \n",
      " conv2d_2 (Conv2D)           (None, 34, 34, 128)       73856     \n",
      "                                                                 \n",
      " max_pooling2d_2 (MaxPoolin  (None, 17, 17, 128)       0         \n",
      " g2D)                                                            \n",
      "                                                                 \n",
      " conv2d_3 (Conv2D)           (None, 15, 15, 128)       147584    \n",
      "                                                                 \n",
      " max_pooling2d_3 (MaxPoolin  (None, 7, 7, 128)         0         \n",
      " g2D)                                                            \n",
      "                                                                 \n",
      " flatten (Flatten)           (None, 6272)              0         \n",
      "                                                                 \n",
      " dense (Dense)               (None, 512)               3211776   \n",
      "                                                                 \n",
      " dense_1 (Dense)             (None, 1)                 513       \n",
      "                                                                 \n",
      "=================================================================\n",
      "Total params: 3453121 (13.17 MB)\n",
      "Trainable params: 3453121 (13.17 MB)\n",
      "Non-trainable params: 0 (0.00 Byte)\n",
      "_________________________________________________________________\n"
     ]
    }
   ],
   "source": [
    "model.summary()"
   ]
  },
  {
   "cell_type": "code",
   "execution_count": 18,
   "id": "99098176-d53e-4819-b28f-a7baccf58338",
   "metadata": {},
   "outputs": [],
   "source": [
    "model.compile(optimizer=optimizers.RMSprop(learning_rate=1e-4),\n",
    "             loss='binary_crossentropy', \n",
    "             metrics=['acc'])"
   ]
  },
  {
   "cell_type": "code",
   "execution_count": 19,
   "id": "4b10b495-8536-463d-b06b-48c71db9d0e6",
   "metadata": {},
   "outputs": [
    {
     "name": "stdout",
     "output_type": "stream",
     "text": [
      "Found 2000 images belonging to 2 classes.\n",
      "Found 1000 images belonging to 2 classes.\n"
     ]
    }
   ],
   "source": [
    "train_datagen = ImageDataGenerator(rescale=1.0/255)\n",
    "test_datagen = ImageDataGenerator(rescale=1.0/255)\n",
    "\n",
    "train_generator = train_datagen.flow_from_directory(\n",
    "    train_dir, # Target directory\n",
    "    target_size=(150, 150), # resize images\n",
    "    batch_size=20,\n",
    "    class_mode='binary'\n",
    ")\n",
    "\n",
    "validation_generator = test_datagen.flow_from_directory(\n",
    "    validation_dir, # Target directory\n",
    "    target_size=(150, 150), # resize images\n",
    "    batch_size=20,\n",
    "    class_mode='binary'\n",
    ")"
   ]
  },
  {
   "cell_type": "code",
   "execution_count": 20,
   "id": "e16f371e-d955-4d9e-a30a-500fe147c3e6",
   "metadata": {},
   "outputs": [
    {
     "name": "stdout",
     "output_type": "stream",
     "text": [
      "Data batch Shape :  (20, 150, 150, 3)\n",
      "Label Batch Shape :  (20,)\n"
     ]
    }
   ],
   "source": [
    "for data_batch, label_batch in train_generator :\n",
    "    print('Data batch Shape : ', data_batch.shape)\n",
    "    print('Label Batch Shape : ', label_batch.shape)\n",
    "    break"
   ]
  },
  {
   "cell_type": "code",
   "execution_count": 21,
   "id": "224bad37-5b05-4ce0-8201-5fd9460287ca",
   "metadata": {},
   "outputs": [
    {
     "name": "stdout",
     "output_type": "stream",
     "text": [
      "Epoch 1/30\n",
      "100/100 [==============================] - 34s 335ms/step - loss: 0.6919 - acc: 0.5205 - val_loss: 0.6836 - val_acc: 0.5590\n",
      "Epoch 2/30\n",
      "100/100 [==============================] - 32s 321ms/step - loss: 0.6768 - acc: 0.5680 - val_loss: 0.6818 - val_acc: 0.5410\n",
      "Epoch 3/30\n",
      "100/100 [==============================] - 35s 345ms/step - loss: 0.6656 - acc: 0.5975 - val_loss: 0.6546 - val_acc: 0.6200\n",
      "Epoch 4/30\n",
      "100/100 [==============================] - 32s 322ms/step - loss: 0.6456 - acc: 0.6315 - val_loss: 0.6489 - val_acc: 0.6110\n",
      "Epoch 5/30\n",
      "100/100 [==============================] - 30s 304ms/step - loss: 0.6180 - acc: 0.6740 - val_loss: 0.6162 - val_acc: 0.6610\n",
      "Epoch 6/30\n",
      "100/100 [==============================] - 31s 309ms/step - loss: 0.5847 - acc: 0.6895 - val_loss: 0.6017 - val_acc: 0.6680\n",
      "Epoch 7/30\n",
      "100/100 [==============================] - 30s 302ms/step - loss: 0.5577 - acc: 0.7050 - val_loss: 0.5989 - val_acc: 0.6750\n",
      "Epoch 8/30\n",
      "100/100 [==============================] - 30s 303ms/step - loss: 0.5308 - acc: 0.7315 - val_loss: 0.6017 - val_acc: 0.6660\n",
      "Epoch 9/30\n",
      "100/100 [==============================] - 32s 325ms/step - loss: 0.5079 - acc: 0.7450 - val_loss: 0.5815 - val_acc: 0.6850\n",
      "Epoch 10/30\n",
      "100/100 [==============================] - 31s 308ms/step - loss: 0.4930 - acc: 0.7560 - val_loss: 0.5668 - val_acc: 0.7030\n",
      "Epoch 11/30\n",
      "100/100 [==============================] - 30s 301ms/step - loss: 0.4749 - acc: 0.7715 - val_loss: 0.5678 - val_acc: 0.7060\n",
      "Epoch 12/30\n",
      "100/100 [==============================] - 31s 307ms/step - loss: 0.4563 - acc: 0.7830 - val_loss: 0.5793 - val_acc: 0.6920\n",
      "Epoch 13/30\n",
      "100/100 [==============================] - 31s 305ms/step - loss: 0.4417 - acc: 0.7990 - val_loss: 0.5968 - val_acc: 0.6970\n",
      "Epoch 14/30\n",
      "100/100 [==============================] - 31s 305ms/step - loss: 0.4227 - acc: 0.8035 - val_loss: 0.5630 - val_acc: 0.7130\n",
      "Epoch 15/30\n",
      "100/100 [==============================] - 30s 305ms/step - loss: 0.4059 - acc: 0.8210 - val_loss: 0.5767 - val_acc: 0.7120\n",
      "Epoch 16/30\n",
      "100/100 [==============================] - 31s 305ms/step - loss: 0.3769 - acc: 0.8310 - val_loss: 0.6987 - val_acc: 0.6820\n",
      "Epoch 17/30\n",
      "100/100 [==============================] - 31s 305ms/step - loss: 0.3505 - acc: 0.8380 - val_loss: 0.5687 - val_acc: 0.7160\n",
      "Epoch 18/30\n",
      "100/100 [==============================] - 31s 305ms/step - loss: 0.3352 - acc: 0.8590 - val_loss: 0.5742 - val_acc: 0.7200\n",
      "Epoch 19/30\n",
      "100/100 [==============================] - 31s 308ms/step - loss: 0.3195 - acc: 0.8675 - val_loss: 0.5733 - val_acc: 0.7250\n",
      "Epoch 20/30\n",
      "100/100 [==============================] - 31s 306ms/step - loss: 0.3073 - acc: 0.8665 - val_loss: 0.5701 - val_acc: 0.7310\n",
      "Epoch 21/30\n",
      "100/100 [==============================] - 31s 307ms/step - loss: 0.2839 - acc: 0.8855 - val_loss: 0.6137 - val_acc: 0.7240\n",
      "Epoch 22/30\n",
      "100/100 [==============================] - 35s 347ms/step - loss: 0.2614 - acc: 0.8905 - val_loss: 0.6245 - val_acc: 0.7180\n",
      "Epoch 23/30\n",
      "100/100 [==============================] - 31s 312ms/step - loss: 0.2362 - acc: 0.8995 - val_loss: 0.6399 - val_acc: 0.7160\n",
      "Epoch 24/30\n",
      "100/100 [==============================] - 30s 303ms/step - loss: 0.2262 - acc: 0.9120 - val_loss: 0.6033 - val_acc: 0.7290\n",
      "Epoch 25/30\n",
      "100/100 [==============================] - 30s 303ms/step - loss: 0.1946 - acc: 0.9310 - val_loss: 0.7378 - val_acc: 0.7030\n",
      "Epoch 26/30\n",
      "100/100 [==============================] - 30s 302ms/step - loss: 0.1858 - acc: 0.9350 - val_loss: 0.6564 - val_acc: 0.7160\n",
      "Epoch 27/30\n",
      "100/100 [==============================] - 30s 303ms/step - loss: 0.1622 - acc: 0.9440 - val_loss: 0.6836 - val_acc: 0.7180\n",
      "Epoch 28/30\n",
      "100/100 [==============================] - 32s 316ms/step - loss: 0.1454 - acc: 0.9475 - val_loss: 0.6873 - val_acc: 0.7180\n",
      "Epoch 29/30\n",
      "100/100 [==============================] - 31s 305ms/step - loss: 0.1270 - acc: 0.9600 - val_loss: 0.7814 - val_acc: 0.7060\n",
      "Epoch 30/30\n",
      "100/100 [==============================] - 31s 305ms/step - loss: 0.1179 - acc: 0.9600 - val_loss: 0.7769 - val_acc: 0.7200\n"
     ]
    }
   ],
   "source": [
    "history = model.fit(\n",
    "    train_generator,\n",
    "    steps_per_epoch=100,\n",
    "    epochs=30,\n",
    "    validation_data=validation_generator,\n",
    "    validation_steps=50\n",
    ")"
   ]
  },
  {
   "cell_type": "markdown",
   "id": "a50688c6-ed5f-422c-96af-04d3b30d3e5e",
   "metadata": {},
   "source": [
    "### Save model"
   ]
  },
  {
   "cell_type": "code",
   "execution_count": 22,
   "id": "16d5da97-7910-4aad-ad10-a9d13fed5875",
   "metadata": {},
   "outputs": [],
   "source": [
    "# model.save('cats_and_dogs_small_1.keras')"
   ]
  },
  {
   "cell_type": "code",
   "execution_count": 23,
   "id": "40982ed0-a2f7-4933-9107-9faf101985a8",
   "metadata": {},
   "outputs": [],
   "source": [
    "# loaded_model = saving.load_model(\"cats_and_dogs_small_1.keras\")"
   ]
  },
  {
   "cell_type": "code",
   "execution_count": 24,
   "id": "5ad2a227-bbc3-4b02-a40e-bfaa050bec0d",
   "metadata": {},
   "outputs": [
    {
     "data": {
      "image/png": "[encoded data removed]",
      "text/plain": [
       "<Figure size 900x600 with 1 Axes>"
      ]
     },
     "metadata": {},
     "output_type": "display_data"
    }
   ],
   "source": [
    "pd.DataFrame(history.history).plot(figsize=(9, 6))\n",
    "plt.grid()\n",
    "plt.show()"
   ]
  },
  {
   "cell_type": "markdown",
   "id": "cb0c4433-efd1-4d27-94f2-bc41f70d8eac",
   "metadata": {},
   "source": [
    "## تقویت داده"
   ]
  },
  {
   "cell_type": "code",
   "execution_count": 25,
   "id": "82133a76-dd38-4d11-b0e9-cadd73e75775",
   "metadata": {},
   "outputs": [],
   "source": [
    "# Model\n",
    "model = models.Sequential()\n",
    "model.add(layers.Conv2D(32, (3, 3), activation='relu', input_shape=(150, 150, 3)))\n",
    "model.add(layers.MaxPooling2D(2, 2))\n",
    "model.add(layers.Conv2D(64, (3, 3), activation='relu'))\n",
    "model.add(layers.MaxPooling2D(2, 2))\n",
    "model.add(layers.Conv2D(128, (3, 3), activation='relu'))\n",
    "model.add(layers.MaxPooling2D(2, 2))\n",
    "model.add(layers.Conv2D(128, (3, 3), activation='relu'))\n",
    "model.add(layers.MaxPooling2D(2, 2))\n",
    "model.add(layers.Flatten())\n",
    "model.add(layers.Dropout(0.5))\n",
    "model.add(layers.Dense(512, activation='relu'))\n",
    "model.add(layers.Dense(1, activation='sigmoid'))\n",
    "\n",
    "\n",
    "# Compile\n",
    "model.compile(optimizer=optimizers.RMSprop(learning_rate=1e-4),\n",
    "             loss='binary_crossentropy', \n",
    "             metrics=['acc'])"
   ]
  },
  {
   "cell_type": "code",
   "execution_count": 63,
   "id": "c8461f0a-84f1-4a72-b611-4f26d4c6852f",
   "metadata": {},
   "outputs": [
    {
     "name": "stdout",
     "output_type": "stream",
     "text": [
      "Found 2000 images belonging to 2 classes.\n",
      "Found 1000 images belonging to 2 classes.\n"
     ]
    }
   ],
   "source": [
    "train_datagen = ImageDataGenerator(\n",
    "    rescale=1.0/255,\n",
    "    rotation_range=40,\n",
    "    width_shift_range=0.2,\n",
    "    height_shift_range=0.2,\n",
    "    shear_range=0.2,\n",
    "    zoom_range=0.2,\n",
    "    horizontal_flip=True,\n",
    ")\n",
    "test_datagen = ImageDataGenerator(rescale=1.0/255)\n",
    "\n",
    "train_generator = train_datagen.flow_from_directory(\n",
    "    train_dir, # Target directory\n",
    "    target_size=(150, 150), # resize images\n",
    "    batch_size=20,\n",
    "    class_mode='binary',\n",
    ")\n",
    "\n",
    "validation_generator = test_datagen.flow_from_directory(\n",
    "    validation_dir, # Target directory\n",
    "    target_size=(150, 150), # resize images\n",
    "    batch_size=20,\n",
    "    class_mode='binary'\n",
    ")"
   ]
  },
  {
   "cell_type": "code",
   "execution_count": 64,
   "id": "bb8d4d5b-85ab-46b1-8a74-827d4548ca1e",
   "metadata": {},
   "outputs": [
    {
     "name": "stdout",
     "output_type": "stream",
     "text": [
      "Data batch Shape :  (10, 150, 150, 3)\n",
      "Label Batch Shape :  (10,)\n"
     ]
    }
   ],
   "source": [
    "for data_batch, label_batch in train_generator :\n",
    "    print('Data batch Shape : ', data_batch.shape)\n",
    "    print('Label Batch Shape : ', label_batch.shape)\n",
    "    break"
   ]
  },
  {
   "cell_type": "code",
   "execution_count": 65,
   "id": "955ae761-cb19-49dc-adf4-67a505cb0581",
   "metadata": {},
   "outputs": [
    {
     "name": "stdout",
     "output_type": "stream",
     "text": [
      "Epoch 1/20\n",
      "200/200 [==============================] - 27s 136ms/step - loss: 0.4500 - acc: 0.7950 - val_loss: 0.4248 - val_acc: 0.8040\n",
      "Epoch 2/20\n",
      "200/200 [==============================] - 28s 141ms/step - loss: 0.4416 - acc: 0.7955 - val_loss: 0.4349 - val_acc: 0.7900\n",
      "Epoch 3/20\n",
      "200/200 [==============================] - 29s 146ms/step - loss: 0.4405 - acc: 0.7895 - val_loss: 0.5018 - val_acc: 0.7690\n",
      "Epoch 4/20\n",
      "200/200 [==============================] - 30s 149ms/step - loss: 0.4587 - acc: 0.7680 - val_loss: 0.4418 - val_acc: 0.8040\n",
      "Epoch 5/20\n",
      "200/200 [==============================] - 30s 152ms/step - loss: 0.4258 - acc: 0.8080 - val_loss: 0.5126 - val_acc: 0.7690\n",
      "Epoch 6/20\n",
      "200/200 [==============================] - 31s 153ms/step - loss: 0.4439 - acc: 0.7890 - val_loss: 0.5130 - val_acc: 0.7400\n",
      "Epoch 7/20\n",
      "200/200 [==============================] - 30s 148ms/step - loss: 0.4470 - acc: 0.7965 - val_loss: 0.4117 - val_acc: 0.8060\n",
      "Epoch 8/20\n",
      "200/200 [==============================] - 31s 153ms/step - loss: 0.4230 - acc: 0.8025 - val_loss: 0.4476 - val_acc: 0.7980\n",
      "Epoch 9/20\n",
      "200/200 [==============================] - 31s 153ms/step - loss: 0.4517 - acc: 0.7925 - val_loss: 0.4479 - val_acc: 0.7880\n",
      "Epoch 10/20\n",
      "200/200 [==============================] - 31s 153ms/step - loss: 0.4422 - acc: 0.7990 - val_loss: 0.6025 - val_acc: 0.7010\n",
      "Epoch 11/20\n",
      "200/200 [==============================] - 30s 152ms/step - loss: 0.4248 - acc: 0.8040 - val_loss: 0.5402 - val_acc: 0.7400\n",
      "Epoch 12/20\n",
      "200/200 [==============================] - 31s 153ms/step - loss: 0.4314 - acc: 0.8020 - val_loss: 0.5067 - val_acc: 0.7710\n",
      "Epoch 13/20\n",
      "200/200 [==============================] - 31s 153ms/step - loss: 0.4318 - acc: 0.8080 - val_loss: 0.4253 - val_acc: 0.8040\n",
      "Epoch 14/20\n",
      "200/200 [==============================] - 31s 153ms/step - loss: 0.4168 - acc: 0.8145 - val_loss: 0.4371 - val_acc: 0.8040\n",
      "Epoch 15/20\n",
      "200/200 [==============================] - 31s 153ms/step - loss: 0.4311 - acc: 0.8000 - val_loss: 0.5080 - val_acc: 0.7660\n",
      "Epoch 16/20\n",
      "200/200 [==============================] - 31s 153ms/step - loss: 0.4134 - acc: 0.8085 - val_loss: 0.4209 - val_acc: 0.8150\n",
      "Epoch 17/20\n",
      "200/200 [==============================] - 31s 153ms/step - loss: 0.4187 - acc: 0.8035 - val_loss: 0.5011 - val_acc: 0.7740\n",
      "Epoch 18/20\n",
      "200/200 [==============================] - 31s 153ms/step - loss: 0.4149 - acc: 0.8195 - val_loss: 0.4239 - val_acc: 0.8110\n",
      "Epoch 19/20\n",
      "200/200 [==============================] - 31s 153ms/step - loss: 0.4056 - acc: 0.8165 - val_loss: 0.4177 - val_acc: 0.8110\n",
      "Epoch 20/20\n",
      "200/200 [==============================] - 31s 153ms/step - loss: 0.4310 - acc: 0.7925 - val_loss: 0.4232 - val_acc: 0.8190\n"
     ]
    }
   ],
   "source": [
    "history = model.fit(\n",
    "    train_generator,\n",
    "    steps_per_epoch=200,\n",
    "    epochs=20,\n",
    "    validation_data=validation_generator,\n",
    "    validation_steps=100\n",
    ")"
   ]
  },
  {
   "cell_type": "markdown",
   "id": "bc65ad91-ced6-44dc-8e9a-df70a6e1016f",
   "metadata": {},
   "source": [
    "## Save model"
   ]
  },
  {
   "cell_type": "code",
   "execution_count": null,
   "id": "af36cbce-5dbd-47e6-ab02-ec4086dc04a2",
   "metadata": {},
   "outputs": [],
   "source": [
    "# model.save('cats_and_dogs_small_2.keras')"
   ]
  },
  {
   "cell_type": "code",
   "execution_count": 66,
   "id": "e0e1ec86-5c82-4039-8ee1-379a15e6356d",
   "metadata": {},
   "outputs": [
    {
     "data": {
      "image/png": "[encoded data removed]",
      "text/plain": [
       "<Figure size 900x600 with 1 Axes>"
      ]
     },
     "metadata": {},
     "output_type": "display_data"
    }
   ],
   "source": [
    "pd.DataFrame(history.history).plot(figsize=(9, 6))\n",
    "plt.xticks(range(0, 31, 2))\n",
    "plt.grid()\n",
    "plt.show()"
   ]
  },
  {
   "cell_type": "markdown",
   "id": "c3ba61bf-5762-405c-99c3-0b14a53230aa",
   "metadata": {},
   "source": [
    "## مدل از پیش ساخته"
   ]
  },
  {
   "cell_type": "code",
   "execution_count": 70,
   "id": "cee5e0a0-121f-4b81-ad91-2815a2410c54",
   "metadata": {},
   "outputs": [],
   "source": [
    "conv_base = VGG16(\n",
    "    weights='imagenet',\n",
    "    include_top=False,\n",
    "    input_shape=(150, 150, 3)\n",
    ")"
   ]
  },
  {
   "cell_type": "code",
   "execution_count": 71,
   "id": "be9240e3-6cd4-44ec-b481-e1472edbf76c",
   "metadata": {},
   "outputs": [
    {
     "name": "stdout",
     "output_type": "stream",
     "text": [
      "Model: \"vgg16\"\n",
      "_________________________________________________________________\n",
      " Layer (type)                Output Shape              Param #   \n",
      "=================================================================\n",
      " input_2 (InputLayer)        [(None, 150, 150, 3)]     0         \n",
      "                                                                 \n",
      " block1_conv1 (Conv2D)       (None, 150, 150, 64)      1792      \n",
      "                                                                 \n",
      " block1_conv2 (Conv2D)       (None, 150, 150, 64)      36928     \n",
      "                                                                 \n",
      " block1_pool (MaxPooling2D)  (None, 75, 75, 64)        0         \n",
      "                                                                 \n",
      " block2_conv1 (Conv2D)       (None, 75, 75, 128)       73856     \n",
      "                                                                 \n",
      " block2_conv2 (Conv2D)       (None, 75, 75, 128)       147584    \n",
      "                                                                 \n",
      " block2_pool (MaxPooling2D)  (None, 37, 37, 128)       0         \n",
      "                                                                 \n",
      " block3_conv1 (Conv2D)       (None, 37, 37, 256)       295168    \n",
      "                                                                 \n",
      " block3_conv2 (Conv2D)       (None, 37, 37, 256)       590080    \n",
      "                                                                 \n",
      " block3_conv3 (Conv2D)       (None, 37, 37, 256)       590080    \n",
      "                                                                 \n",
      " block3_pool (MaxPooling2D)  (None, 18, 18, 256)       0         \n",
      "                                                                 \n",
      " block4_conv1 (Conv2D)       (None, 18, 18, 512)       1180160   \n",
      "                                                                 \n",
      " block4_conv2 (Conv2D)       (None, 18, 18, 512)       2359808   \n",
      "                                                                 \n",
      " block4_conv3 (Conv2D)       (None, 18, 18, 512)       2359808   \n",
      "                                                                 \n",
      " block4_pool (MaxPooling2D)  (None, 9, 9, 512)         0         \n",
      "                                                                 \n",
      " block5_conv1 (Conv2D)       (None, 9, 9, 512)         2359808   \n",
      "                                                                 \n",
      " block5_conv2 (Conv2D)       (None, 9, 9, 512)         2359808   \n",
      "                                                                 \n",
      " block5_conv3 (Conv2D)       (None, 9, 9, 512)         2359808   \n",
      "                                                                 \n",
      " block5_pool (MaxPooling2D)  (None, 4, 4, 512)         0         \n",
      "                                                                 \n",
      "=================================================================\n",
      "Total params: 14714688 (56.13 MB)\n",
      "Trainable params: 14714688 (56.13 MB)\n",
      "Non-trainable params: 0 (0.00 Byte)\n",
      "_________________________________________________________________\n"
     ]
    }
   ],
   "source": [
    "conv_base.summary()"
   ]
  },
  {
   "cell_type": "code",
   "execution_count": null,
   "id": "033faeec-54ae-4de4-a92b-3b2f487821c7",
   "metadata": {},
   "outputs": [],
   "source": []
  }
 ],
 "metadata": {
  "kernelspec": {
   "display_name": "Python 3 (ipykernel)",
   "language": "python",
   "name": "python3"
  },
  "language_info": {
   "codemirror_mode": {
    "name": "ipython",
    "version": 3
   },
   "file_extension": ".py",
   "mimetype": "text/x-python",
   "name": "python",
   "nbconvert_exporter": "python",
   "pygments_lexer": "ipython3",
   "version": "3.11.6"
  }
 },
 "nbformat": 4,
 "nbformat_minor": 5
}
