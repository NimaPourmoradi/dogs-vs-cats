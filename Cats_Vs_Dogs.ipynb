{
 "cells": [
  {
   "cell_type": "code",
   "execution_count": 2,
   "id": "cf1664bb-f3c9-43d7-81c2-3fd5be875afd",
   "metadata": {},
   "outputs": [],
   "source": [
    "from silence_tensorflow import silence_tensorflow\n",
    "silence_tensorflow()"
   ]
  },
  {
   "cell_type": "code",
   "execution_count": 31,
   "id": "edc1cc04-8d4a-4d7e-b364-5076154c663b",
   "metadata": {},
   "outputs": [
    {
     "name": "stdout",
     "output_type": "stream",
     "text": [
      "\u001b[1m\u001b[32mAll libraries imported succesfully\u001b[0m\n"
     ]
    }
   ],
   "source": [
    "import os\n",
    "import re\n",
    "import pandas as pd\n",
    "import numpy as np\n",
    "import matplotlib.pyplot as plt\n",
    "import seaborn as sns\n",
    "import warnings\n",
    "from termcolor import colored\n",
    "\n",
    "\n",
    "print(colored('All libraries imported succesfully', 'green', attrs=[\"bold\"]))"
   ]
  },
  {
   "cell_type": "code",
   "execution_count": 22,
   "id": "9bf8fa82-77f3-4d2c-98d9-e9a75a458cb0",
   "metadata": {},
   "outputs": [
    {
     "name": "stdout",
     "output_type": "stream",
     "text": [
      "\u001b[1m\u001b[32mAll libraries configed succesfully\u001b[0m\n"
     ]
    }
   ],
   "source": [
    "warnings.filterwarnings('ignore')\n",
    "\n",
    "print(colored('All libraries configed succesfully', 'green', attrs=['bold']))"
   ]
  },
  {
   "cell_type": "code",
   "execution_count": 23,
   "id": "d39a0ecb-c703-40e5-9bfe-09903cfad9fa",
   "metadata": {},
   "outputs": [],
   "source": [
    "base_directory = '/home/nima/dataset-dw/dogs-vs-cats/'\n",
    "train_folder = '/home/nima/dataset-dw/dogs-vs-cats/train/'\n",
    "test_folder = '/home/nima/dataset-dw/dogs-vs-cats/test1/'"
   ]
  },
  {
   "cell_type": "code",
   "execution_count": 27,
   "id": "a7a7fef2-ba9a-4a49-80f8-a7078cfa60c0",
   "metadata": {},
   "outputs": [
    {
     "name": "stdout",
     "output_type": "stream",
     "text": [
      "Number of samples in train folder : 25000\n"
     ]
    }
   ],
   "source": [
    "total_count = len(os.listdir(train_folder))\n",
    "print('Number of samples in train folder : {}'.format(total_count))"
   ]
  },
  {
   "cell_type": "code",
   "execution_count": 37,
   "id": "268dd83b-bee8-43b3-82b2-79134c30717e",
   "metadata": {},
   "outputs": [
    {
     "name": "stdout",
     "output_type": "stream",
     "text": [
      "\u001b[1m\u001b[34mNumber of cats : 12500\u001b[0m\n",
      "\u001b[1m\u001b[34mNumber of dogs : 12500\u001b[0m\n"
     ]
    }
   ],
   "source": [
    "cat_count, dog_count = 0, 0\n",
    "for file_name in os.listdir(train_folder) :\n",
    "    cat = re.findall(\"\\Acat\", file_name)\n",
    "    dog = re.findall(\"\\Adog\", file_name)\n",
    "    if cat :\n",
    "        cat_count+=1\n",
    "    if dog :\n",
    "        dog_count+=1\n",
    "print(colored(f'Number of cats : {cat_count}', 'blue', attrs=['bold']))\n",
    "print(colored(f'Number of dogs : {dog_count}', 'blue', attrs=['bold']))"
   ]
  },
  {
   "cell_type": "code",
   "execution_count": null,
   "id": "a75d4a9a-ec42-4dd4-b911-f1fd1d09132f",
   "metadata": {},
   "outputs": [],
   "source": []
  },
  {
   "cell_type": "code",
   "execution_count": null,
   "id": "0b9777a0-f421-4dce-a17d-af7def4cc43f",
   "metadata": {},
   "outputs": [],
   "source": []
  }
 ],
 "metadata": {
  "kernelspec": {
   "display_name": "Python 3 (ipykernel)",
   "language": "python",
   "name": "python3"
  },
  "language_info": {
   "codemirror_mode": {
    "name": "ipython",
    "version": 3
   },
   "file_extension": ".py",
   "mimetype": "text/x-python",
   "name": "python",
   "nbconvert_exporter": "python",
   "pygments_lexer": "ipython3",
   "version": "3.11.6"
  }
 },
 "nbformat": 4,
 "nbformat_minor": 5
}
